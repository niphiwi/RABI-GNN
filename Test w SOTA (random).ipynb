{
 "cells": [
  {
   "cell_type": "markdown",
   "metadata": {},
   "source": [
    "Load models"
   ]
  },
  {
   "cell_type": "code",
   "execution_count": 1,
   "metadata": {},
   "outputs": [
    {
     "name": "stderr",
     "output_type": "stream",
     "text": [
      "/home/nwinkler/.conda/envs/pyg/lib/python3.11/site-packages/torchvision/io/image.py:13: UserWarning: Failed to load image Python extension: '/home/nwinkler/.conda/envs/pyg/lib/python3.11/site-packages/torchvision/image.so: undefined symbol: _ZN5torch3jit17parseSchemaOrNameERKNSt7__cxx1112basic_stringIcSt11char_traitsIcESaIcEEE'If you don't plan on using image functionality from `torchvision.io`, you can ignore this warning. Otherwise, there might be something wrong with your environment. Did you have `libjpeg` or `libpng` installed before building `torchvision` from source?\n",
      "  warn(\n"
     ]
    }
   ],
   "source": [
    "from models.rabignn import PLModule\n",
    "\n",
    "from models.sota.kernel_dmv.wrapper import KernelDMV\n",
    "from models.sota.dares.wrapper import Dares\n",
    "\n",
    "\n",
    "# Load GNN\n",
    "CKPT_PTH = \"models/saved_models/base_reg_100/checkpoints/epoch=99-step=24800.ckpt\"\n",
    "model = PLModule.load_from_checkpoint(CKPT_PTH, map_location='cpu')\n",
    "model.eval()\n",
    "\n",
    "# Load KDM+V\n",
    "model_kdm = KernelDMV(x_range=[0,29], y_range=[0,24], cell_size=1, kernel_size=2.5)\n",
    "\n",
    "# Load DARES\n",
    "model_dares = Dares()"
   ]
  },
  {
   "cell_type": "markdown",
   "metadata": {},
   "source": [
    "Load data"
   ]
  },
  {
   "cell_type": "code",
   "execution_count": 2,
   "metadata": {},
   "outputs": [
    {
     "name": "stderr",
     "output_type": "stream",
     "text": [
      "/home/nwinkler/.conda/envs/pyg/lib/python3.11/site-packages/torch_geometric/data/dataset.py:242: UserWarning: The `pre_transform` argument differs from the one used in the pre-processed version of this dataset. If you want to make use of another pre-processing technique, pass `force_reload=True` explicitly to reload the dataset.\n",
      "  warnings.warn(\n"
     ]
    }
   ],
   "source": [
    "from data.synthetic import SyntheticDataset\n",
    "import torch_geometric.transforms as T\n",
    "from utils.transforms import Add2DMask, Apply2DMask\n",
    "\n",
    "transform = T.Compose([\n",
    "                T.Distance(norm=False),\n",
    "                T.Cartesian(),\n",
    "                Add2DMask(0.2, seq_len=10),\n",
    "                Apply2DMask(),\n",
    "            ])\n",
    "\n",
    "dataset = SyntheticDataset(root=\"data/30x25/\", type=\"test\", radius=0.3, temporary=True, transform=transform)"
   ]
  },
  {
   "cell_type": "markdown",
   "metadata": {},
   "source": [
    "Example"
   ]
  },
  {
   "cell_type": "code",
   "execution_count": 3,
   "metadata": {},
   "outputs": [
    {
     "name": "stdout",
     "output_type": "stream",
     "text": [
      "RMSE GNN: 0.1284, KLD GNN: 0.1284\n",
      "RMSE KDM+V: 0.3957, KLD KDM+V: 0.1664\n",
      "RMSE DARES: 0.6425, KLD DARES: 0.1674\n"
     ]
    },
    {
     "data": {
      "image/png": "[encoded data removed]",
      "text/plain": [
       "<Figure size 1500x500 with 3 Axes>"
      ]
     },
     "metadata": {},
     "output_type": "display_data"
    }
   ],
   "source": [
    "import torch\n",
    "from utils.mapping import visualize_feature_as_image\n",
    "import utils.metrics as metrics\n",
    "import matplotlib.pyplot as plt\n",
    "\n",
    "data = dataset[13370]\n",
    "known_mask = data.known[:,-1]\n",
    "measurements = data.y[known_mask][:,-1]\n",
    "positions = data.orig_pos[known_mask]\n",
    "\n",
    "\n",
    "# GNN\n",
    "with torch.no_grad():\n",
    "    pred_gnn = model(data)\n",
    "\n",
    "# KDM+V\n",
    "model_kdm.set_measurements(positions, measurements)\n",
    "pred_kdm = model_kdm.predict()\n",
    "\n",
    "# DARES\n",
    "model_dares.set_measurements(positions*0.3, measurements)\n",
    "pred_dares = model_dares.predict()\n",
    "\n",
    "# plot all three plots in a subplot side by side\n",
    "fig, axs = plt.subplots(1, 3, figsize=(15, 5))\n",
    "visualize_feature_as_image(pred_gnn.squeeze(), data.orig_pos, rot_k=0, ax=axs[0])\n",
    "axs[1].imshow(pred_kdm)\n",
    "\n",
    "# rotate DARES prediction to match the GNN prediction\n",
    "pred_dares = torch.rot90(torch.tensor(pred_dares), 1, dims=(0,1))\n",
    "# flip DARES prediction to match the GNN prediction\n",
    "pred_dares = torch.flip(pred_dares, dims=(0,))\n",
    "axs[2].imshow(pred_dares)\n",
    "\n",
    "rmse_gnn = metrics.rmse(pred_gnn, data.y[:, -1].unsqueeze(1))\n",
    "kld_gnn = metrics.rmse(pred_gnn, data.y[:, -1].unsqueeze(1))\n",
    "\n",
    "rmse_kdm = metrics.rmse(pred_kdm, data.y[:, -1].reshape(30, 25))\n",
    "kld_kdm = metrics.kld(pred_kdm, data.y[:, -1].reshape(30, 25))\n",
    "\n",
    "rmse_dares = metrics.rmse(pred_dares, data.y[:, -1].reshape(30, 25))\n",
    "kld_dares = metrics.kld(pred_dares, data.y[:, -1].reshape(30, 25))\n",
    "\n",
    "print(f\"RMSE GNN: {rmse_gnn:.4f}, KLD GNN: {kld_gnn:.4f}\")\n",
    "print(f\"RMSE KDM+V: {rmse_kdm:.4f}, KLD KDM+V: {kld_kdm:.4f}\")\n",
    "print(f\"RMSE DARES: {rmse_dares:.4f}, KLD DARES: {kld_dares:.4f}\")"
   ]
  },
  {
   "cell_type": "markdown",
   "metadata": {},
   "source": [
    "Metrics on whole dataset"
   ]
  },
  {
   "cell_type": "code",
   "execution_count": 13,
   "metadata": {},
   "outputs": [
    {
     "name": "stderr",
     "output_type": "stream",
     "text": [
      "/home/nwinkler/.conda/envs/pyg/lib/python3.11/site-packages/torch_geometric/data/dataset.py:242: UserWarning: The `pre_transform` argument differs from the one used in the pre-processed version of this dataset. If you want to make use of another pre-processing technique, pass `force_reload=True` explicitly to reload the dataset.\n",
      "  warnings.warn(\n",
      "100%|██████████| 23760/23760 [52:31<00:00,  7.54it/s]  \n"
     ]
    }
   ],
   "source": [
    "from tqdm import tqdm\n",
    "import datetime\n",
    "\n",
    "import utils.metrics as metrics\n",
    "from models.rabignn import PLModule\n",
    "from models.sota.kernel_dmv.wrapper import KernelDMV\n",
    "from models.sota.dares.wrapper import Dares\n",
    "\n",
    "from data.synthetic import SyntheticDataset\n",
    "import torch_geometric.transforms as T\n",
    "from utils.transforms import Add2DMask, Apply2DMask\n",
    "\n",
    "CALC_GNN = True\n",
    "CALC_KDM = True\n",
    "CALC_DARES = True\n",
    "\n",
    "# Metrics storage\n",
    "rmse_gnn_values = []\n",
    "rmse_kdm_values = []\n",
    "rmse_dares_values = []\n",
    "\n",
    "kld_gnn_values = []\n",
    "kld_kdm_values = []\n",
    "kld_dares_values = []\n",
    "\n",
    "#~~~~~~~~\n",
    "#~ DATA ~\n",
    "#~~~~~~~~\n",
    "\n",
    "percentage = 0.08\n",
    "\n",
    "transform = T.Compose([\n",
    "                T.Distance(norm=False),\n",
    "                T.Cartesian(),\n",
    "                Add2DMask(percentage, seq_len=10),\n",
    "                Apply2DMask(),\n",
    "            ])\n",
    "dataset = SyntheticDataset(root=\"data/30x25/\", type=\"test\", radius=0.3, temporary=True, transform=transform)\n",
    "\n",
    "#~~~~~~~~~~\n",
    "#~ MODELS ~\n",
    "#~~~~~~~~~~\n",
    "\n",
    "# Load GNN\n",
    "CKPT_PTH = \"models/saved_models/base_reg_100/checkpoints/epoch=99-step=24800.ckpt\"\n",
    "model = PLModule.load_from_checkpoint(CKPT_PTH, map_location='cpu')\n",
    "model.eval()\n",
    "\n",
    "# Load KDM+V\n",
    "model_kdm = KernelDMV(x_range=[0,29], y_range=[0,24], cell_size=1, kernel_size=2.5)\n",
    "\n",
    "# Load DARES\n",
    "model_dares = Dares()\n",
    "\n",
    "#~~~~~~~~\n",
    "#~ LOOP ~\n",
    "#~~~~~~~~\n",
    "\n",
    "# Process samples in dataset\n",
    "n_samples = len(dataset)\n",
    "for i in tqdm(range(n_samples)):\n",
    "    data = dataset[i]\n",
    "    known_mask = data.known[:,-1]\n",
    "    measurements = data.y[known_mask][:,-1]\n",
    "    positions = data.orig_pos[known_mask]\n",
    "\n",
    "    if CALC_GNN:\n",
    "        pred = model(data)\n",
    "\n",
    "        rmse_gnn = metrics.rmse(pred, data.y[:, -1].unsqueeze(1))\n",
    "        rmse_gnn_values.append(rmse_gnn.item())\n",
    "\n",
    "        kld_gnn = metrics.kld(pred, data.y[:, -1].unsqueeze(1))\n",
    "        kld_gnn_values.append(kld_gnn.item())\n",
    "\n",
    "\n",
    "    if CALC_KDM:\n",
    "        model_kdm.set_measurements(positions, measurements)\n",
    "        pred_kdm = model_kdm.predict()\n",
    "\n",
    "        rmse_kdm = metrics.rmse(pred_kdm, data.y[:, -1].reshape(30, 25))\n",
    "        rmse_kdm_values.append(rmse_kdm.item())\n",
    "\n",
    "        kld_kdm = metrics.kld(pred_kdm, data.y[:, -1].reshape(30, 25))\n",
    "        kld_kdm_values.append(kld_kdm.item())\n",
    "\n",
    "    if CALC_DARES:\n",
    "        model_dares.set_measurements(positions, measurements)\n",
    "        pred_dares = model_dares.predict()\n",
    "\n",
    "        # rotate DARES prediction to match the GNN prediction\n",
    "        pred_dares = torch.rot90(torch.tensor(pred_dares), 1, dims=(0,1))\n",
    "        # flip DARES prediction to match the GNN prediction\n",
    "        pred_dares = torch.flip(pred_dares, dims=(0,))\n",
    "\n",
    "        rmse_dares = metrics.rmse(pred_dares, data.y[:, -1].reshape(30, 25))\n",
    "        rmse_dares_values.append(rmse_dares.item())\n",
    "\n",
    "        kld_dares = metrics.kld(pred_dares, data.y[:, -1].reshape(30, 25))\n",
    "        kld_dares_values.append(kld_dares.item())\n",
    "\n",
    "#~~~~~~~\n",
    "#~ LOG ~\n",
    "#~~~~~~~\n",
    "# add current data in file name\n",
    "file_name = \"metrics_synthetic_\" + str(datetime.datetime.now().strftime(\"%Y-%m-%d_%H-%M-%S\")) + \".txt\"\n",
    "\n",
    "with open(f\"test_logs/{file_name}\", \"w+\") as f:\n",
    "    f.write(f\"Random Percentage: {percentage} \\n\")\n",
    "    if CALC_GNN:\n",
    "        f.write(\"Mean RMSE for GNN: \" + str(sum(rmse_gnn_values) / len(rmse_gnn_values)) + \"\\n\")\n",
    "        f.write(\"Mean KLD for GNN: \" + str(sum(kld_gnn_values) / len(kld_gnn_values)) + \"\\n\")\n",
    "    if CALC_KDM:\n",
    "        f.write(\"Mean RMSE for KDM: \" + str(sum(rmse_kdm_values) / len(rmse_kdm_values)) + \"\\n\")\n",
    "        f.write(\"Mean KLD for KDM: \" + str(sum(kld_kdm_values) / len(kld_kdm_values)) + \"\\n\")\n",
    "    if CALC_DARES:\n",
    "        f.write(\"Mean RMSE for DARES: \" + str(sum(rmse_dares_values) / len(rmse_dares_values)) + \"\\n\")\n",
    "        f.write(\"Mean KLD for DARES: \" + str(sum(kld_dares_values) / len(kld_dares_values)) + \"\\n\")"
   ]
  }
 ],
 "metadata": {
  "kernelspec": {
   "display_name": "pyg",
   "language": "python",
   "name": "python3"
  },
  "language_info": {
   "codemirror_mode": {
    "name": "ipython",
    "version": 3
   },
   "file_extension": ".py",
   "mimetype": "text/x-python",
   "name": "python",
   "nbconvert_exporter": "python",
   "pygments_lexer": "ipython3",
   "version": "3.11.8"
  }
 },
 "nbformat": 4,
 "nbformat_minor": 2
}
