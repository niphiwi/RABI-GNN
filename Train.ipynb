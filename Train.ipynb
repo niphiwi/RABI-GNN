{
 "cells": [
  {
   "cell_type": "code",
   "execution_count": 1,
   "metadata": {},
   "outputs": [
    {
     "name": "stderr",
     "output_type": "stream",
     "text": [
      "/home/nwinkler/.conda/envs/pyg/lib/python3.11/site-packages/torchvision/io/image.py:13: UserWarning: Failed to load image Python extension: '/home/nwinkler/.conda/envs/pyg/lib/python3.11/site-packages/torchvision/image.so: undefined symbol: _ZN5torch3jit17parseSchemaOrNameERKNSt7__cxx1112basic_stringIcSt11char_traitsIcESaIcEEE'If you don't plan on using image functionality from `torchvision.io`, you can ignore this warning. Otherwise, there might be something wrong with your environment. Did you have `libjpeg` or `libpng` installed before building `torchvision` from source?\n",
      "  warn(\n",
      "Seed set to 93\n"
     ]
    }
   ],
   "source": [
    "import torch\n",
    "import pytorch_lightning as pl\n",
    "\n",
    "import warnings\n",
    "warnings.filterwarnings('ignore', category=UserWarning, message='TypedStorage is deprecated')\n",
    "\n",
    "pl.seed_everything(93)\n",
    "torch.set_float32_matmul_precision('medium')\n",
    "\n",
    "# Model parameters\n",
    "N_LAYERS = 5\n",
    "HIDDEN_DIM = 50\n",
    "EMBEDDING_DIM = 5\n",
    "N_HEADS = 4\n",
    "DROPOUT = 0.25\n",
    "\n",
    "# Dataset parameters\n",
    "RADIUS = 0.3\n",
    "SEQ_LEN = 10\n",
    "CELL_SIZE = 1\n",
    "GRID_AND_RANDOM_SAMPLING = False\n",
    "N_NODES = 750\n",
    "\n",
    "# Training parameters\n",
    "BATCH_SIZE = 32\n",
    "NUM_WORKERS = 10\n",
    "EPOCHS = 5\n",
    "WEIGHT_DECAY = 0\n",
    "LEARNING_RATE = 1e-3\n",
    "\n",
    "\n",
    "TRAIN = True\n",
    "CKPT_PTH = \"saved_models/gsi_hparam2/lightning_logs/version_23/checkpoints/epoch=4-step=3770.ckpt\""
   ]
  },
  {
   "cell_type": "code",
   "execution_count": 2,
   "metadata": {},
   "outputs": [
    {
     "data": {
      "text/plain": [
       "torch.Size([24000, 10])"
      ]
     },
     "execution_count": 2,
     "metadata": {},
     "output_type": "execute_result"
    }
   ],
   "source": [
    "from data.synthetic import SyntheticDataset, SyntheticDataModule\n",
    "\n",
    "from models.rabignn import PLModule\n",
    "import torch_geometric.transforms as T\n",
    "from utils.transforms import Add2DMask, Apply2DMask\n",
    "from torch_geometric.loader import DataLoader\n",
    "import random\n",
    "\n",
    "\n",
    "hparams = {\n",
    "    'seq_len': SEQ_LEN,\n",
    "    'hidden_dim': HIDDEN_DIM,\n",
    "    'embedding_dim': EMBEDDING_DIM,\n",
    "    'n_layers': N_LAYERS,\n",
    "    'n_heads': N_HEADS,\n",
    "    'learning_rate': LEARNING_RATE,\n",
    "    'dropout': DROPOUT,\n",
    "    'weight_decay': WEIGHT_DECAY,\n",
    "}\n",
    "    \n",
    "transform = T.Compose([\n",
    "            T.Distance(norm=False),\n",
    "            T.Cartesian(),\n",
    "            Add2DMask(random.uniform(0.02, 0.15),\n",
    "                        seq_len=SEQ_LEN),\n",
    "            Apply2DMask(),\n",
    "        ])\n",
    "\n",
    "model = PLModule(hparams=hparams)\n",
    "dataset = SyntheticDataset(root=\"data/30x25/\", type=\"valid\", radius=RADIUS, seq_len=SEQ_LEN, n_nodes=N_NODES, transform=transform)\n",
    "datamodule = SyntheticDataModule(seq_len=SEQ_LEN, batch_size=BATCH_SIZE, num_workers=NUM_WORKERS, shuffle=True, n_nodes=N_NODES, transform=transform)\n",
    "\n",
    "# Example prediction:\n",
    "loader = DataLoader(dataset, shuffle=True, batch_size=BATCH_SIZE)\n",
    "data = next(iter(loader))\n",
    "out = model(data)\n",
    "out.shape"
   ]
  },
  {
   "cell_type": "code",
   "execution_count": 3,
   "metadata": {},
   "outputs": [
    {
     "name": "stderr",
     "output_type": "stream",
     "text": [
      "GPU available: True (cuda), used: True\n",
      "TPU available: False, using: 0 TPU cores\n",
      "IPU available: False, using: 0 IPUs\n",
      "HPU available: False, using: 0 HPUs\n",
      "LOCAL_RANK: 0 - CUDA_VISIBLE_DEVICES: [0,1,2,3]\n",
      "\n",
      "  | Name     | Type    | Params\n",
      "-------------------------------------\n",
      "0 | model    | GNN     | 261 K \n",
      "1 | loss_mse | MSELoss | 0     \n",
      "-------------------------------------\n",
      "261 K     Trainable params\n",
      "0         Non-trainable params\n",
      "261 K     Total params\n",
      "1.047     Total estimated model params size (MB)\n"
     ]
    },
    {
     "name": "stdout",
     "output_type": "stream",
     "text": [
      "                                                                           \r"
     ]
    },
    {
     "name": "stderr",
     "output_type": "stream",
     "text": [
      "/home/nwinkler/.conda/envs/pyg/lib/python3.11/site-packages/pytorch_lightning/utilities/data.py:77: Trying to infer the `batch_size` from an ambiguous collection. The batch size we found is 24000. To avoid any miscalculations, use `self.log(..., batch_size=batch_size)`.\n"
     ]
    },
    {
     "name": "stdout",
     "output_type": "stream",
     "text": [
      "Epoch 1:   0%|          | 0/495 [00:00<?, ?it/s, v_num=2, train_loss_step=0.128, val_loss=0.105, train_loss_epoch=0.179]          "
     ]
    },
    {
     "name": "stderr",
     "output_type": "stream",
     "text": [
      "/home/nwinkler/.conda/envs/pyg/lib/python3.11/site-packages/pytorch_lightning/utilities/data.py:77: Trying to infer the `batch_size` from an ambiguous collection. The batch size we found is 18000. To avoid any miscalculations, use `self.log(..., batch_size=batch_size)`.\n"
     ]
    },
    {
     "name": "stdout",
     "output_type": "stream",
     "text": [
      "Epoch 4: 100%|██████████| 495/495 [02:27<00:00,  3.35it/s, v_num=2, train_loss_step=0.0779, val_loss=0.071, train_loss_epoch=0.0765] "
     ]
    },
    {
     "name": "stderr",
     "output_type": "stream",
     "text": [
      "`Trainer.fit` stopped: `max_epochs=5` reached.\n"
     ]
    },
    {
     "name": "stdout",
     "output_type": "stream",
     "text": [
      "Epoch 4: 100%|██████████| 495/495 [02:27<00:00,  3.35it/s, v_num=2, train_loss_step=0.0779, val_loss=0.071, train_loss_epoch=0.0765]\n"
     ]
    }
   ],
   "source": [
    "LOG_DIR = \"models/logs\"\n",
    "\n",
    "tb_logger = pl.loggers.TensorBoardLogger(save_dir=LOG_DIR, name=\"feb\", default_hp_metric=True)\n",
    "\n",
    "trainer = pl.Trainer(\n",
    "    logger=tb_logger,\n",
    "    max_epochs=EPOCHS,\n",
    "    enable_progress_bar=True,\n",
    "    accelerator=\"auto\" if torch.cuda.is_available() else \"cpu\",\n",
    "    default_root_dir=LOG_DIR,\n",
    "    devices=[3],\n",
    "    fast_dev_run=False\n",
    ")\n",
    "\n",
    "if TRAIN == True:\n",
    "    trainer.fit(model, datamodule)"
   ]
  },
  {
   "cell_type": "code",
   "execution_count": 4,
   "metadata": {},
   "outputs": [
    {
     "data": {
      "text/plain": [
       "PLModule(\n",
       "  (model): GNN(\n",
       "    (dropout): Dropout(p=0.25, inplace=False)\n",
       "    (embedding_layer): Linear(20, 5, bias=True)\n",
       "    (first_layer): GATv2Conv(15, 50, heads=4)\n",
       "    (inner_layers): ModuleList(\n",
       "      (0-2): 3 x GATv2Conv(205, 50, heads=4)\n",
       "    )\n",
       "    (last_layer): GATv2Conv(205, 10, heads=1)\n",
       "  )\n",
       "  (loss_mse): MSELoss()\n",
       ")"
      ]
     },
     "execution_count": 4,
     "metadata": {},
     "output_type": "execute_result"
    }
   ],
   "source": [
    "#ckpt_path = \"models/logs/feb/version_0/checkpoints/epoch=4-step=2475.ckpt\"\n",
    "\n",
    "#model = PLModule.load_from_checkpoint(ckpt_path).to('cpu')\n",
    "model.eval()"
   ]
  },
  {
   "cell_type": "code",
   "execution_count": 7,
   "metadata": {},
   "outputs": [
    {
     "data": {
      "image/png": "[encoded data removed]",
      "text/plain": [
       "<Figure size 600x300 with 3 Axes>"
      ]
     },
     "metadata": {},
     "output_type": "display_data"
    }
   ],
   "source": [
    "from utils.mapping import plot_data\n",
    "\n",
    "data = dataset[5000]\n",
    "\n",
    "with torch.no_grad():\n",
    "    pred = model(data)\n",
    "\n",
    "plot_data(data, pred, data.orig_pos, cell_size=1, ground_truth=data.y)"
   ]
  }
 ],
 "metadata": {
  "kernelspec": {
   "display_name": "pyg",
   "language": "python",
   "name": "python3"
  },
  "language_info": {
   "codemirror_mode": {
    "name": "ipython",
    "version": 3
   },
   "file_extension": ".py",
   "mimetype": "text/x-python",
   "name": "python",
   "nbconvert_exporter": "python",
   "pygments_lexer": "ipython3",
   "version": "3.11.8"
  }
 },
 "nbformat": 4,
 "nbformat_minor": 2
}
