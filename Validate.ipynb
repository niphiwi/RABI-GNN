{
 "cells": [
  {
   "cell_type": "markdown",
   "metadata": {},
   "source": [
    "Idea: Validate a prediction at a certain position against the robot measurement."
   ]
  },
  {
   "cell_type": "code",
   "execution_count": 1,
   "metadata": {},
   "outputs": [],
   "source": [
    "from data.hrmcampaign import HRMCampaignDataset\n",
    "from data.hrm import HRMDataset\n",
    "\n",
    "#dataset = HRMDataset(\"data/hrm\", radius=0.3)\n",
    "dataset_campaign = HRMCampaignDataset(\"data/hrmcampaign\", radius=0.3)"
   ]
  },
  {
   "cell_type": "code",
   "execution_count": 7,
   "metadata": {},
   "outputs": [
    {
     "data": {
      "text/plain": [
       "PLModule(\n",
       "  (model): GNN(\n",
       "    (dropout): Dropout(p=0.25, inplace=False)\n",
       "    (embedding_layer): Linear(20, 5, bias=True)\n",
       "    (first_layer): GATv2Conv(15, 50, heads=4)\n",
       "    (inner_layers): ModuleList(\n",
       "      (0-2): 3 x GATv2Conv(205, 50, heads=4)\n",
       "    )\n",
       "    (last_layer): GATv2Conv(205, 10, heads=1)\n",
       "  )\n",
       "  (loss_mse): MSELoss()\n",
       ")"
      ]
     },
     "execution_count": 7,
     "metadata": {},
     "output_type": "execute_result"
    }
   ],
   "source": [
    "CKPT_PTH = \"models/saved_models/feb_version_3/checkpoints/epoch=4-step=2475.ckpt\"\n",
    "SAVE_PLOTS = True\n",
    "\n",
    "import torch\n",
    "from models.rabignn import PLModule\n",
    "\n",
    "torch.manual_seed(1337)\n",
    "# Load actual model\n",
    "model = PLModule.load_from_checkpoint(CKPT_PTH)\n",
    "model = model.to('cpu')\n",
    "model.eval()"
   ]
  },
  {
   "cell_type": "markdown",
   "metadata": {},
   "source": [
    "## Without upscaling"
   ]
  },
  {
   "cell_type": "markdown",
   "metadata": {},
   "source": [
    "### Single example"
   ]
  },
  {
   "cell_type": "code",
   "execution_count": 8,
   "metadata": {},
   "outputs": [
    {
     "data": {
      "text/plain": [
       "tensor(0.1912, grad_fn=<MseLossBackward0>)"
      ]
     },
     "execution_count": 8,
     "metadata": {},
     "output_type": "execute_result"
    }
   ],
   "source": [
    "import torch.nn.functional as F\n",
    "\n",
    "data = dataset_campaign[99]\n",
    "\n",
    "# create robot_mask \n",
    "robot_mask = (data.id == 0).repeat(10,1).T & ~torch.isnan(data.y)\n",
    "data.y[robot_mask]\n",
    "\n",
    "# set robot measurements to 0 and unknown\n",
    "data.x[data.id==0] = 0\n",
    "data.known[data.id==0] = False\n",
    "\n",
    "pred = model(data)\n",
    "\n",
    "F.mse_loss(pred[robot_mask], data.y[robot_mask])"
   ]
  },
  {
   "cell_type": "code",
   "execution_count": 9,
   "metadata": {},
   "outputs": [
    {
     "data": {
      "text/plain": [
       "<Axes: >"
      ]
     },
     "execution_count": 9,
     "metadata": {},
     "output_type": "execute_result"
    },
    {
     "data": {
      "image/png": "[encoded data removed]",
      "text/plain": [
       "<Figure size 640x480 with 1 Axes>"
      ]
     },
     "metadata": {},
     "output_type": "display_data"
    }
   ],
   "source": [
    "from utils.mapping import visualize_feature_as_image\n",
    "CELL_SIZE = 5\n",
    "\n",
    "visualize_feature_as_image(torch.nanmean(pred, dim=1).detach().numpy(), data.orig_pos, cell_size=CELL_SIZE)"
   ]
  },
  {
   "cell_type": "code",
   "execution_count": 12,
   "metadata": {},
   "outputs": [
    {
     "data": {
      "text/plain": [
       "torch.Size([25, 10])"
      ]
     },
     "execution_count": 12,
     "metadata": {},
     "output_type": "execute_result"
    }
   ],
   "source": [
    "data.y.shape"
   ]
  },
  {
   "cell_type": "code",
   "execution_count": 10,
   "metadata": {},
   "outputs": [
    {
     "data": {
      "text/plain": [
       "<Axes: >"
      ]
     },
     "execution_count": 10,
     "metadata": {},
     "output_type": "execute_result"
    },
    {
     "data": {
      "image/png": "[encoded data removed]",
      "text/plain": [
       "<Figure size 640x480 with 1 Axes>"
      ]
     },
     "metadata": {},
     "output_type": "display_data"
    }
   ],
   "source": [
    "visualize_feature_as_image(torch.nanmean(data.y, dim=1), data.orig_pos, cell_size=CELL_SIZE)"
   ]
  },
  {
   "cell_type": "markdown",
   "metadata": {},
   "source": [
    "### Whole dataset"
   ]
  },
  {
   "cell_type": "code",
   "execution_count": 8,
   "metadata": {},
   "outputs": [
    {
     "name": "stderr",
     "output_type": "stream",
     "text": [
      "100%|██████████| 811/811 [00:24<00:00, 33.10it/s] "
     ]
    },
    {
     "name": "stdout",
     "output_type": "stream",
     "text": [
      "Averaged MSE = 0.8971796035766602\n"
     ]
    },
    {
     "name": "stderr",
     "output_type": "stream",
     "text": [
      "\n"
     ]
    }
   ],
   "source": [
    "from torch_geometric.loader import DataLoader\n",
    "from tqdm import tqdm\n",
    "import torch.nn.functional as F\n",
    "\n",
    "dataloader = DataLoader(dataset_campaign, batch_size=1)\n",
    "\n",
    "mse = 0\n",
    "\n",
    "for data in tqdm(dataloader):\n",
    "    # create robot_mask to select actual robot_measurements\n",
    "    robot_mask = (data.id == 0).repeat(10,1).T & ~torch.isnan(data.y)\n",
    "\n",
    "    # set all robot measurements to 0 and unknown\n",
    "    data.x[data.id==0] = 0\n",
    "    data.known[data.id==0] = False\n",
    "\n",
    "    pred = model(data)\n",
    "\n",
    "    mse += F.mse_loss(pred[robot_mask], data.y[robot_mask])\n",
    "\n",
    "mse_avg = mse/len(dataloader)\n",
    "\n",
    "print(f\"Averaged MSE = {mse_avg}\")"
   ]
  },
  {
   "cell_type": "markdown",
   "metadata": {},
   "source": [
    "## With Upscaling"
   ]
  },
  {
   "cell_type": "markdown",
   "metadata": {},
   "source": [
    "### Single example"
   ]
  },
  {
   "cell_type": "code",
   "execution_count": 94,
   "metadata": {},
   "outputs": [],
   "source": [
    "def create_robot_mask(data, upscaled_data):\n",
    "    \"\"\"\n",
    "    For upscaled_data\n",
    "    \"\"\"\n",
    "    robot_mask = torch.zeros(len(upscaled_data.orig_pos), dtype=torch.bool)\n",
    "    robot_pos = data.orig_pos[data.id==0]\n",
    "    # Assuming data.orig_pos correctly aligns with data.y\n",
    "    for pos in robot_pos:\n",
    "        # Find matches in upscaled_data.orig_pos\n",
    "        pos = torch.round(pos/CELL_SIZE).int() * CELL_SIZE\n",
    "        matches = (upscaled_data.orig_pos == pos).all(dim=1)\n",
    "        robot_mask = robot_mask | matches\n",
    "    return robot_mask"
   ]
  },
  {
   "cell_type": "code",
   "execution_count": 116,
   "metadata": {},
   "outputs": [
    {
     "data": {
      "text/plain": [
       "tensor(0.2568, grad_fn=<MseLossBackward0>)"
      ]
     },
     "execution_count": 116,
     "metadata": {},
     "output_type": "execute_result"
    }
   ],
   "source": [
    "from utils.virtual import add_virtual_nodes\n",
    "import torch.nn.functional as F\n",
    "\n",
    "data = dataset_campaign[99]\n",
    "upscaled_data = add_virtual_nodes(data, cell_size=CELL_SIZE, x_range=[0,152], y_range=[0,30])\n",
    "\n",
    "# create robot_mask\n",
    "robot_mask = create_robot_mask(data, upscaled_data)\n",
    "temporal_robot_mask = upscaled_data.known[robot_mask]\n",
    "\n",
    "# find true robot measurements\n",
    "robot_y = upscaled_data.x[robot_mask][temporal_robot_mask]\n",
    "\n",
    "# set robot measurements to 0 and unknown\n",
    "upscaled_data.x[robot_mask] = 0 \n",
    "upscaled_data.known[robot_mask] = False\n",
    "\n",
    "pred = model(upscaled_data)\n",
    "F.mse_loss(pred[robot_mask][temporal_robot_mask], robot_y)"
   ]
  },
  {
   "cell_type": "code",
   "execution_count": 120,
   "metadata": {},
   "outputs": [
    {
     "data": {
      "text/plain": [
       "<Axes: >"
      ]
     },
     "execution_count": 120,
     "metadata": {},
     "output_type": "execute_result"
    },
    {
     "data": {
      "image/png": "[encoded data removed]",
      "text/plain": [
       "<Figure size 640x480 with 1 Axes>"
      ]
     },
     "metadata": {},
     "output_type": "display_data"
    },
    {
     "data": {
      "image/png": "[encoded data removed]",
      "text/plain": [
       "<Figure size 640x480 with 1 Axes>"
      ]
     },
     "metadata": {},
     "output_type": "display_data"
    }
   ],
   "source": [
    "from utils.mapping import visualize_feature_as_image\n",
    "\n",
    "CELL_SIZE = 5\n",
    "visualize_feature_as_image(torch.nanmean(data.x, dim=1).detach().numpy(), data.orig_pos, cell_size=CELL_SIZE)\n",
    "visualize_feature_as_image(torch.nanmean(pred, dim=1).detach().numpy(), upscaled_data.orig_pos, cell_size=CELL_SIZE)"
   ]
  },
  {
   "cell_type": "markdown",
   "metadata": {},
   "source": [
    "### Whole Dataset"
   ]
  },
  {
   "cell_type": "code",
   "execution_count": 147,
   "metadata": {},
   "outputs": [
    {
     "name": "stderr",
     "output_type": "stream",
     "text": [
      "100%|██████████| 811/811 [00:43<00:00, 18.61it/s]"
     ]
    },
    {
     "name": "stdout",
     "output_type": "stream",
     "text": [
      "Averaged MSE = 0.8461891412734985\n"
     ]
    },
    {
     "name": "stderr",
     "output_type": "stream",
     "text": [
      "\n"
     ]
    }
   ],
   "source": [
    "from torch_geometric.loader import DataLoader\n",
    "from tqdm import tqdm\n",
    "import torch.nn.functional as F\n",
    "\n",
    "dataloader = DataLoader(dataset_campaign, batch_size=1)\n",
    "\n",
    "mse = 0\n",
    "\n",
    "for data in tqdm(dataloader):\n",
    "    with torch.no_grad():\n",
    "        upscaled_data = add_virtual_nodes(data, cell_size=CELL_SIZE, x_range=[0,160], y_range=[0,30])\n",
    "\n",
    "        # create robot_mask\n",
    "        robot_mask = create_robot_mask(data, upscaled_data)\n",
    "        temporal_robot_mask = upscaled_data.known[robot_mask]\n",
    "\n",
    "        # find true robot measurements\n",
    "        robot_y = upscaled_data.x[robot_mask][temporal_robot_mask]\n",
    "\n",
    "        # set robot measurements to 0 and unknown\n",
    "        upscaled_data.x[robot_mask] = 0 \n",
    "        upscaled_data.known[robot_mask] = False\n",
    "\n",
    "        pred = model(upscaled_data)\n",
    "        mse += F.mse_loss(pred[robot_mask][temporal_robot_mask], robot_y)\n",
    "        if torch.isnan(mse):\n",
    "            print(\"oh no\")\n",
    "\n",
    "mse_avg = mse/len(dataloader)\n",
    "\n",
    "print(f\"Averaged MSE = {mse_avg}\")"
   ]
  },
  {
   "cell_type": "code",
   "execution_count": 144,
   "metadata": {},
   "outputs": [
    {
     "data": {
      "text/plain": [
       "tensor([[160,  15]], dtype=torch.int32)"
      ]
     },
     "execution_count": 144,
     "metadata": {},
     "output_type": "execute_result"
    }
   ],
   "source": [
    "torch.round(robot_pos/CELL_SIZE).int() * CELL_SIZE"
   ]
  }
 ],
 "metadata": {
  "kernelspec": {
   "display_name": "pyg",
   "language": "python",
   "name": "python3"
  },
  "language_info": {
   "codemirror_mode": {
    "name": "ipython",
    "version": 3
   },
   "file_extension": ".py",
   "mimetype": "text/x-python",
   "name": "python",
   "nbconvert_exporter": "python",
   "pygments_lexer": "ipython3",
   "version": "3.11.7"
  }
 },
 "nbformat": 4,
 "nbformat_minor": 2
}
