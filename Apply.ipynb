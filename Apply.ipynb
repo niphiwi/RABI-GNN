{
 "cells": [
  {
   "cell_type": "code",
   "execution_count": 1,
   "metadata": {},
   "outputs": [
    {
     "data": {
      "text/plain": [
       "PLModule(\n",
       "  (model): GNN(\n",
       "    (dropout): Dropout(p=0.25, inplace=False)\n",
       "    (embedding_layer): Linear(20, 5, bias=True)\n",
       "    (first_layer): GATv2Conv(15, 50, heads=4)\n",
       "    (inner_layers): ModuleList(\n",
       "      (0-2): 3 x GATv2Conv(205, 50, heads=4)\n",
       "    )\n",
       "    (last_layer): GATv2Conv(205, 10, heads=1)\n",
       "  )\n",
       "  (loss_mse): MSELoss()\n",
       ")"
      ]
     },
     "execution_count": 1,
     "metadata": {},
     "output_type": "execute_result"
    }
   ],
   "source": [
    "CKPT_PTH = \"models/saved_models/feb_version_3/checkpoints/epoch=4-step=2475.ckpt\"\n",
    "SAVE_PLOTS = True\n",
    "\n",
    "import torch\n",
    "from models.rabignn import PLModule\n",
    "\n",
    "torch.manual_seed(1337)\n",
    "\n",
    "# def find_ckpt_file(directory):\n",
    "#     directory = os.path.join(directory, \"checkpoints\")\n",
    "#     ckpt_file = [file for file in os.listdir(directory) if file.endswith('.ckpt')][0]\n",
    "\n",
    "#     return os.path.join(directory,ckpt_file)\n",
    "\n",
    "\n",
    "# checkpoint_pth = find_ckpt_file(MODEL_PTH)\n",
    "\n",
    "# # Load parameters from the YAML file\n",
    "# with open(MODEL_PTH +\"/hparams.yaml\", \"r\") as yaml_file:\n",
    "#     hparams = yaml.safe_load(yaml_file)\n",
    "\n",
    "# Load actual model\n",
    "try:\n",
    "    model = PLModule.load_from_checkpoint(CKPT_PTH)\n",
    "except RuntimeError:\n",
    "    model = PLModule.load_from_checkpoint(CKPT_PTH, map_location='cpu')\n",
    "    \n",
    "model = model.to('cpu')\n",
    "model.eval()"
   ]
  },
  {
   "cell_type": "markdown",
   "metadata": {},
   "source": [
    "# Synthetic Data"
   ]
  },
  {
   "cell_type": "code",
   "execution_count": 2,
   "metadata": {},
   "outputs": [],
   "source": [
    "from data.synthetic import SyntheticDataset\n",
    "import torch_geometric.transforms as T\n",
    "from utils.transforms import Add2DMask, Apply2DMask\n",
    "\n",
    "\n",
    "transform = T.Compose([\n",
    "            T.Distance(norm=False),\n",
    "            T.Cartesian(),\n",
    "            Add2DMask(0.04,#random.uniform(0.04, 0.15),\n",
    "                        seq_len=10),\n",
    "            Apply2DMask(),\n",
    "        ])\n",
    "\n",
    "\n",
    "synth_dataset = SyntheticDataset(root=\"data/30x25/\", type=\"valid\", radius=0.3, transform=transform)"
   ]
  },
  {
   "cell_type": "code",
   "execution_count": null,
   "metadata": {},
   "outputs": [
    {
     "ename": "ModuleNotFoundError",
     "evalue": "No module named 'matplotlib'",
     "output_type": "error",
     "traceback": [
      "\u001b[0;31m---------------------------------------------------------------------------\u001b[0m",
      "\u001b[0;31mModuleNotFoundError\u001b[0m                       Traceback (most recent call last)",
      "Cell \u001b[0;32mIn[2], line 1\u001b[0m\n\u001b[0;32m----> 1\u001b[0m \u001b[38;5;28;01mfrom\u001b[39;00m \u001b[38;5;21;01mutils\u001b[39;00m\u001b[38;5;21;01m.\u001b[39;00m\u001b[38;5;21;01mmapping\u001b[39;00m \u001b[38;5;28;01mimport\u001b[39;00m plot_data\n\u001b[1;32m      3\u001b[0m data \u001b[38;5;241m=\u001b[39m synth_dataset[\u001b[38;5;241m4000\u001b[39m]\n\u001b[1;32m      4\u001b[0m \u001b[38;5;28;01mwith\u001b[39;00m torch\u001b[38;5;241m.\u001b[39mno_grad():\n",
      "File \u001b[0;32m~/phd/rabi-gnn/utils/mapping.py:2\u001b[0m\n\u001b[1;32m      1\u001b[0m \u001b[38;5;28;01mimport\u001b[39;00m \u001b[38;5;21;01mtorch\u001b[39;00m\n\u001b[0;32m----> 2\u001b[0m \u001b[38;5;28;01mimport\u001b[39;00m \u001b[38;5;21;01mmatplotlib\u001b[39;00m\u001b[38;5;21;01m.\u001b[39;00m\u001b[38;5;21;01mpyplot\u001b[39;00m \u001b[38;5;28;01mas\u001b[39;00m \u001b[38;5;21;01mplt\u001b[39;00m\n\u001b[1;32m      4\u001b[0m \u001b[38;5;66;03m# def visualize_feature_as_image(X, pos, cell_size, grid_shape=None, ax=None, rot_k=0, vmin=None, vmax=None):\u001b[39;00m\n\u001b[1;32m      5\u001b[0m \u001b[38;5;66;03m#     \"\"\" Takes graph data with positions as input and returns it as an image. \u001b[39;00m\n\u001b[1;32m      6\u001b[0m \u001b[38;5;66;03m#     Args:\u001b[39;00m\n\u001b[0;32m   (...)\u001b[0m\n\u001b[1;32m     47\u001b[0m \n\u001b[1;32m     48\u001b[0m \u001b[38;5;66;03m#     return ax\u001b[39;00m\n\u001b[1;32m     50\u001b[0m \u001b[38;5;28;01mdef\u001b[39;00m \u001b[38;5;21mvisualize_feature_as_image\u001b[39m(X, pos, cell_size\u001b[38;5;241m=\u001b[39m\u001b[38;5;241m1\u001b[39m, grid_shape\u001b[38;5;241m=\u001b[39m\u001b[38;5;28;01mNone\u001b[39;00m, ax\u001b[38;5;241m=\u001b[39m\u001b[38;5;28;01mNone\u001b[39;00m, rot_k\u001b[38;5;241m=\u001b[39m\u001b[38;5;241m1\u001b[39m, vmin\u001b[38;5;241m=\u001b[39m\u001b[38;5;28;01mNone\u001b[39;00m, vmax\u001b[38;5;241m=\u001b[39m\u001b[38;5;28;01mNone\u001b[39;00m):\n",
      "\u001b[0;31mModuleNotFoundError\u001b[0m: No module named 'matplotlib'"
     ]
    }
   ],
   "source": [
    "from utils.mapping import plot_data\n",
    "\n",
    "data = synth_dataset[4000]\n",
    "with torch.no_grad():\n",
    "    pred = model(data)\n",
    "\n",
    "\n",
    "plot_data(data, pred, data.orig_pos, cell_size=1, ground_truth=data.ground_truth)\n",
    "    #, pred, data.orig_pos, cell_size=1, ground_truth=data.ground_truth)"
   ]
  },
  {
   "cell_type": "code",
   "execution_count": 4,
   "metadata": {},
   "outputs": [
    {
     "data": {
      "image/png": "[encoded data removed]",
      "text/plain": [
       "<Figure size 600x300 with 3 Axes>"
      ]
     },
     "metadata": {},
     "output_type": "display_data"
    }
   ],
   "source": [
    "data = synth_dataset[1000]\n",
    "with torch.no_grad():\n",
    "    pred = model(data)\n",
    "\n",
    "plot_data(data, pred, data.orig_pos, cell_size=1, ground_truth=data.ground_truth)"
   ]
  },
  {
   "cell_type": "markdown",
   "metadata": {},
   "source": [
    "# HRM"
   ]
  },
  {
   "cell_type": "code",
   "execution_count": 10,
   "metadata": {},
   "outputs": [
    {
     "name": "stderr",
     "output_type": "stream",
     "text": [
      "Processing...\n",
      "Processing data/hrm/raw/data.pkl: 100%|██████████| 127964/127964 [01:42<00:00, 1248.19it/s]\n",
      "Done!\n"
     ]
    },
    {
     "data": {
      "text/plain": [
       "Data(y=[16, 10], pos=[16, 2], id=[16], orig_pos=[16, 2], datetime=[10], edge_index=[2, 16], known=[16, 10], x=[16, 10])"
      ]
     },
     "execution_count": 10,
     "metadata": {},
     "output_type": "execute_result"
    }
   ],
   "source": [
    "from data.hrm import HRMDataset\n",
    "from utils.virtual import add_virtual_nodes\n",
    "\n",
    "hrm_dataset = HRMDataset(root=\"data/hrm/\", environmental_param=\"gas\")\n",
    "\n",
    "data = hrm_dataset[4800]\n",
    "data"
   ]
  },
  {
   "cell_type": "code",
   "execution_count": 17,
   "metadata": {},
   "outputs": [
    {
     "data": {
      "image/png": "[encoded data removed]",
      "text/plain": [
       "<Figure size 800x600 with 2 Axes>"
      ]
     },
     "metadata": {},
     "output_type": "display_data"
    }
   ],
   "source": [
    "import torch_geometric.transforms as T\n",
    "from utils.mapping import plot_data\n",
    "\n",
    "CELL_SIZE = 3\n",
    "\n",
    "data = hrm_dataset[4000]\n",
    "upscaled_data = add_virtual_nodes(data, cell_size=CELL_SIZE, x_range=[0,152], y_range=[0,30])\n",
    "\n",
    "with torch.no_grad():\n",
    "    pred = model(upscaled_data)\n",
    "\n",
    "plot_data(upscaled_data, pred, upscaled_data.orig_pos, rot_k=1, scale=2, cell_size=CELL_SIZE)"
   ]
  },
  {
   "cell_type": "code",
   "execution_count": 18,
   "metadata": {},
   "outputs": [
    {
     "data": {
      "image/png": "[encoded data removed]",
      "text/plain": [
       "<Figure size 800x600 with 2 Axes>"
      ]
     },
     "metadata": {},
     "output_type": "display_data"
    }
   ],
   "source": [
    "import torch_geometric.transforms as T\n",
    "\n",
    "CELL_SIZE = 5\n",
    "\n",
    "upscaled_data = add_virtual_nodes(data, cell_size=CELL_SIZE, x_range=[0,152], y_range=[0,30])\n",
    "\n",
    "with torch.no_grad():\n",
    "    pred = model(upscaled_data)\n",
    "\n",
    "plot_data(upscaled_data, pred, upscaled_data.orig_pos, rot_k=1, scale=2, cell_size=CELL_SIZE)"
   ]
  }
 ],
 "metadata": {
  "kernelspec": {
   "display_name": "pyg",
   "language": "python",
   "name": "python3"
  },
  "language_info": {
   "codemirror_mode": {
    "name": "ipython",
    "version": 3
   },
   "file_extension": ".py",
   "mimetype": "text/x-python",
   "name": "python",
   "nbconvert_exporter": "python",
   "pygments_lexer": "ipython3",
   "version": "3.12.2"
  }
 },
 "nbformat": 4,
 "nbformat_minor": 2
}
